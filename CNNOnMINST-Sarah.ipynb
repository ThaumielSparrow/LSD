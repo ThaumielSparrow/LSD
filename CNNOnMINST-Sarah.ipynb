{
  "nbformat": 4,
  "nbformat_minor": 0,
  "metadata": {
    "colab": {
      "name": "CNNOnMINST.ipynb",
      "provenance": [],
      "collapsed_sections": [],
      "authorship_tag": "ABX9TyOyFCVfL72zZ8/iioXjDjS6",
      "include_colab_link": true
    },
    "kernelspec": {
      "name": "python3",
      "display_name": "Python 3"
    },
    "language_info": {
      "name": "python"
    }
  },
  "cells": [
    {
      "cell_type": "markdown",
      "metadata": {
        "id": "view-in-github",
        "colab_type": "text"
      },
      "source": [
        "<a href=\"https://colab.research.google.com/github/ThaumielSparrow/LSD/blob/main/CNNOnMINST-Sarah.ipynb\" target=\"_parent\"><img src=\"https://colab.research.google.com/assets/colab-badge.svg\" alt=\"Open In Colab\"/></a>"
      ]
    },
    {
      "cell_type": "code",
      "execution_count": null,
      "metadata": {
        "id": "wyzZsf8cYVxQ"
      },
      "outputs": [],
      "source": [
        "import tensorflow as tf\n",
        "from tensorflow.keras import datasets, layers, models, optimizers\n"
      ]
    },
    {
      "cell_type": "code",
      "source": [
        "#network and training\n",
        "EPOCHS = 10\n",
        "BATCH_SIZE = 128\n",
        "OPTIMIZER = tf.keras.optimizers.Adam()\n",
        "VERBOSE = 1\n",
        "VALIDATION_SPLIT = 0.95"
      ],
      "metadata": {
        "id": "gM6rVlmVY6Mm"
      },
      "execution_count": null,
      "outputs": []
    },
    {
      "cell_type": "code",
      "source": [
        "IM_ROWS, IM_COLS = 28, 28\n",
        "INPUT_SHAPE = (28, 28, 1) #input shape\n",
        "NB_CLASSES = 10 #number of ourputs"
      ],
      "metadata": {
        "id": "ZaStzjCJZMTu"
      },
      "execution_count": null,
      "outputs": []
    },
    {
      "cell_type": "code",
      "source": [
        "#building model\n",
        "def build_LeNet(input_shape, classes):\n",
        "  model = models.Sequential()\n",
        "  #covolution => relu => pooling\n",
        "  model.add(layers.Convolution2D(20, (5, 5), activation = 'relu', input_shape = input_shape))\n",
        "  model.add(layers.MaxPool2D(pool_size = (2, 2), strides = ( 2, 2)))\n",
        "  model.add(layers.Convolution2D(50, (5, 5), activation = 'relu', input_shape = input_shape))\n",
        "  model.add(layers.MaxPool2D(pool_size = (2, 2), strides = ( 2, 2)))\n",
        "  #flatten\n",
        "  model.add(layers.Flatten())\n",
        "  model.add(layers.Dense(500, activation='relu'));\n",
        "  model.add(layers.Dense(classes, activation='softmax'));\n",
        "  return model"
      ],
      "metadata": {
        "id": "LggjV6ceZeDd"
      },
      "execution_count": null,
      "outputs": []
    },
    {
      "cell_type": "code",
      "source": [
        "#data and preprocessing\n",
        "(X_train, y_train), (X_test, y_test) = datasets.mnist.load_data()\n",
        "X_train = X_train.reshape((60000, 28, 28, 1))\n",
        "X_test = X_test.reshape((10000, 28, 28, 1))\n",
        "X_train, X_test = X_train/255.0, X_test/255.0\n",
        "X_train, X_test = X_train.astype('float32'), X_test.astype('float32')\n",
        "#one hot encoding\n",
        "y_train = tf.keras.utils.to_categorical(y_train, NB_CLASSES)\n",
        "y_test = tf.keras.utils.to_categorical(y_test, NB_CLASSES)"
      ],
      "metadata": {
        "id": "M1Yjg08WZlvv"
      },
      "execution_count": null,
      "outputs": []
    },
    {
      "cell_type": "code",
      "source": [
        "model = build_LeNet(INPUT_SHAPE, NB_CLASSES)\n",
        "model.compile(loss = \"categorical_crossentropy\", optimizer = OPTIMIZER, metrics = [\"accuracy\"])\n",
        "model.summary()"
      ],
      "metadata": {
        "colab": {
          "base_uri": "https://localhost:8080/"
        },
        "id": "I8juksAVbkD1",
        "outputId": "4949ca8b-9454-47e9-9725-b1bc52b1f3ab"
      },
      "execution_count": null,
      "outputs": [
        {
          "output_type": "stream",
          "name": "stdout",
          "text": [
            "Model: \"sequential_6\"\n",
            "_________________________________________________________________\n",
            " Layer (type)                Output Shape              Param #   \n",
            "=================================================================\n",
            " conv2d_8 (Conv2D)           (None, 24, 24, 20)        520       \n",
            "                                                                 \n",
            " max_pooling2d_4 (MaxPooling  (None, 12, 12, 20)       0         \n",
            " 2D)                                                             \n",
            "                                                                 \n",
            " conv2d_9 (Conv2D)           (None, 8, 8, 50)          25050     \n",
            "                                                                 \n",
            " max_pooling2d_5 (MaxPooling  (None, 4, 4, 50)         0         \n",
            " 2D)                                                             \n",
            "                                                                 \n",
            " flatten_2 (Flatten)         (None, 800)               0         \n",
            "                                                                 \n",
            " dense_3 (Dense)             (None, 500)               400500    \n",
            "                                                                 \n",
            " dense_4 (Dense)             (None, 10)                5010      \n",
            "                                                                 \n",
            "=================================================================\n",
            "Total params: 431,080\n",
            "Trainable params: 431,080\n",
            "Non-trainable params: 0\n",
            "_________________________________________________________________\n"
          ]
        }
      ]
    },
    {
      "cell_type": "code",
      "source": [
        "model.fit(X_train, y_train, batch_size = BATCH_SIZE, epochs = EPOCHS, verbose = VERBOSE, validation_split = VALIDATION_SPLIT)"
      ],
      "metadata": {
        "colab": {
          "base_uri": "https://localhost:8080/"
        },
        "id": "aR7FRi-pcI6K",
        "outputId": "8f13f1a4-a811-4082-de1e-f7e091fc583a"
      },
      "execution_count": null,
      "outputs": [
        {
          "output_type": "stream",
          "name": "stdout",
          "text": [
            "Epoch 1/10\n",
            "24/24 [==============================] - 12s 486ms/step - loss: 1.1603 - accuracy: 0.6517 - val_loss: 0.4475 - val_accuracy: 0.8583\n",
            "Epoch 2/10\n",
            "24/24 [==============================] - 11s 485ms/step - loss: 0.3357 - accuracy: 0.9017 - val_loss: 0.2793 - val_accuracy: 0.9152\n",
            "Epoch 3/10\n",
            "24/24 [==============================] - 11s 482ms/step - loss: 0.2030 - accuracy: 0.9433 - val_loss: 0.2190 - val_accuracy: 0.9319\n",
            "Epoch 4/10\n",
            "24/24 [==============================] - 11s 483ms/step - loss: 0.1542 - accuracy: 0.9553 - val_loss: 0.1708 - val_accuracy: 0.9470\n",
            "Epoch 5/10\n",
            "24/24 [==============================] - 11s 486ms/step - loss: 0.1177 - accuracy: 0.9687 - val_loss: 0.1617 - val_accuracy: 0.9514\n",
            "Epoch 6/10\n",
            "24/24 [==============================] - 11s 484ms/step - loss: 0.0853 - accuracy: 0.9793 - val_loss: 0.1691 - val_accuracy: 0.9482\n",
            "Epoch 7/10\n",
            "24/24 [==============================] - 11s 488ms/step - loss: 0.0702 - accuracy: 0.9833 - val_loss: 0.1404 - val_accuracy: 0.9564\n",
            "Epoch 8/10\n",
            "24/24 [==============================] - 11s 485ms/step - loss: 0.0565 - accuracy: 0.9840 - val_loss: 0.1488 - val_accuracy: 0.9550\n",
            "Epoch 9/10\n",
            "24/24 [==============================] - 11s 485ms/step - loss: 0.0520 - accuracy: 0.9863 - val_loss: 0.1162 - val_accuracy: 0.9641\n",
            "Epoch 10/10\n",
            "24/24 [==============================] - 11s 488ms/step - loss: 0.0341 - accuracy: 0.9907 - val_loss: 0.1150 - val_accuracy: 0.9631\n"
          ]
        },
        {
          "output_type": "execute_result",
          "data": {
            "text/plain": [
              "<keras.callbacks.History at 0x7f3d504223d0>"
            ]
          },
          "metadata": {},
          "execution_count": 27
        }
      ]
    },
    {
      "cell_type": "code",
      "source": [
        "score = model.evaluate(X_test, y_test, verbose=VERBOSE)"
      ],
      "metadata": {
        "colab": {
          "base_uri": "https://localhost:8080/"
        },
        "id": "y62THY0OdDqd",
        "outputId": "ebfdd2a6-f4e2-46fc-dc7f-6776583ef629"
      },
      "execution_count": null,
      "outputs": [
        {
          "output_type": "stream",
          "name": "stdout",
          "text": [
            "313/313 [==============================] - 3s 8ms/step - loss: 0.0911 - accuracy: 0.9713\n"
          ]
        }
      ]
    },
    {
      "cell_type": "code",
      "source": [
        ""
      ],
      "metadata": {
        "id": "ZvWsWRqOe4YH"
      },
      "execution_count": null,
      "outputs": []
    }
  ]
}