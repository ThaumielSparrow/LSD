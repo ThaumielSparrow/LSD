{
  "nbformat": 4,
  "nbformat_minor": 0,
  "metadata": {
    "colab": {
      "name": "Rotation_Sarah.ipynb",
      "provenance": [],
      "collapsed_sections": [],
      "include_colab_link": true
    },
    "kernelspec": {
      "name": "python3",
      "display_name": "Python 3"
    },
    "language_info": {
      "name": "python"
    }
  },
  "cells": [
    {
      "cell_type": "markdown",
      "metadata": {
        "id": "view-in-github",
        "colab_type": "text"
      },
      "source": [
        "<a href=\"https://colab.research.google.com/github/ThaumielSparrow/LSD/blob/main/LSD_training/Rotation_Sarah.ipynb\" target=\"_parent\"><img src=\"https://colab.research.google.com/assets/colab-badge.svg\" alt=\"Open In Colab\"/></a>"
      ]
    },
    {
      "cell_type": "code",
      "execution_count": null,
      "metadata": {
        "id": "FHROZK06cGMy"
      },
      "outputs": [],
      "source": [
        "import cv2 as cv\n",
        "import numpy as np\n",
        "import imutils\n",
        "from matplotlib import pyplot as plt\n",
        "from math import atan2, cos, sin, sqrt, pi"
      ]
    },
    {
      "cell_type": "code",
      "source": [
        "class CenterAndRotationWithPCA():\n",
        "  '''\n",
        "  Contains structure to make digit detection scalable for the future\n",
        "\n",
        "  Functions: digits_by_contour\n",
        "  '''\n",
        "  def __init__(self, img):\n",
        "    self.image = img\n",
        "\n",
        "  def drawAxis(self, img, p_, q_, color, scale):\n",
        "    p = list(p_)\n",
        "    q = list(q_)\n",
        " \n",
        "    ## [visualization1]\n",
        "    angle = atan2(p[1] - q[1], p[0] - q[0]) # angle in radians\n",
        "    hypotenuse = sqrt((p[1] - q[1]) * (p[1] - q[1]) + (p[0] - q[0]) * (p[0] - q[0]))\n",
        " \n",
        "    # Here we lengthen the arrow by a factor of scale\n",
        "    q[0] = p[0] - scale * hypotenuse * cos(angle)\n",
        "    q[1] = p[1] - scale * hypotenuse * sin(angle)\n",
        "    cv.line(img, (int(p[0]), int(p[1])), (int(q[0]), int(q[1])), color, 3, cv.LINE_AA)\n",
        " \n",
        "    # create the arrow hooks\n",
        "    p[0] = q[0] + 9 * cos(angle + pi / 4)\n",
        "    p[1] = q[1] + 9 * sin(angle + pi / 4)\n",
        "    cv.line(img, (int(p[0]), int(p[1])), (int(q[0]), int(q[1])), color, 3, cv.LINE_AA)\n",
        " \n",
        "    p[0] = q[0] + 9 * cos(angle - pi / 4)\n",
        "    p[1] = q[1] + 9 * sin(angle - pi / 4)\n",
        "    cv.line(img, (int(p[0]), int(p[1])), (int(q[0]), int(q[1])), color, 3, cv.LINE_AA)\n",
        "    ## [visualization1]\n",
        " \n",
        "  def preprocess_image(self) :\n",
        "    '''\n",
        "    Read the image, reduce noise, threshhold and dilate\n",
        "    pre: self.image is just a file name\n",
        "    post: self.image is preprocessed\n",
        "    '''\n",
        "    img_main = cv.imread(self.image)\n",
        "    img_blur = cv.GaussianBlur(img_main, (7, 7), 1)\n",
        "    img_blur_RGB = cv.cvtColor(img_blur, cv.COLOR_BGR2GRAY)\n",
        "\n",
        "    ret, thresh1 = cv.threshold(img_blur_RGB, 127, 256, cv.THRESH_BINARY_INV)\n",
        "    dilate = cv.dilate(thresh1, None, iterations=2)\n",
        "    return dilate\n",
        "    \n",
        "  def getOrientation(self, pts, img):\n",
        "    ## [pca]\n",
        "    # Construct a buffer used by the pca analysis\n",
        "    sz = len(pts)\n",
        "    data_pts = np.empty((sz, 2), dtype=np.float64)\n",
        "    for i in range(data_pts.shape[0]):\n",
        "      data_pts[i,0] = pts[i,0,0]\n",
        "      data_pts[i,1] = pts[i,0,1]\n",
        " \n",
        "    # Perform PCA analysis\n",
        "    mean = np.empty((0))\n",
        "    mean, eigenvectors, eigenvalues = cv.PCACompute2(data_pts, mean)\n",
        " \n",
        "    # Store the center of the object\n",
        "    cntr = (int(mean[0,0]), int(mean[0,1]))\n",
        "    ## [pca]\n",
        " \n",
        "    ## [visualization]\n",
        "    # Draw the principal components\n",
        "    cv.circle(img, cntr, 3, (255, 0, 255), 2)\n",
        "    p1 = (cntr[0] + 0.02 * eigenvectors[0,0] * eigenvalues[0,0], cntr[1] + 0.02 * eigenvectors[0,1] * eigenvalues[0,0])\n",
        "    p2 = (cntr[0] - 0.02 * eigenvectors[1,0] * eigenvalues[1,0], cntr[1] - 0.02 * eigenvectors[1,1] * eigenvalues[1,0])\n",
        "    self.drawAxis(img, cntr, p1, (255, 255, 0), 1)\n",
        "    self.drawAxis(img, cntr, p2, (0, 0, 255), 5)\n",
        " \n",
        "    angle = atan2(eigenvectors[0,1], eigenvectors[0,0]) # orientation in radians\n",
        "    ## [visualization]\n",
        " \n",
        "    # Label with the rotation angle\n",
        "    label = \"  Rotation Angle: \" + str(-int(np.rad2deg(angle)) - 90) + \" degrees\"\n",
        "    textbox = cv.rectangle(img, (cntr[0], cntr[1]-25), (cntr[0] + 250, cntr[1] + 10), (255,255,255), -1)\n",
        "    cv.putText(img, label, (cntr[0], cntr[1]), cv.FONT_HERSHEY_SIMPLEX, 0.5, (0,0,0), 1, cv.LINE_AA)\n",
        " \n",
        "    return cntr, angle\n",
        "\n",
        "  def image_moments(self):\n",
        "    '''\n",
        "    Finds digits in an image by contours.\n",
        "\n",
        "    Arguments: image to be analyzed, whether to save images physically, whether to return original image with bounds around digits\n",
        "\n",
        "    Returns: NumPy array containing all digits\n",
        "    '''\n",
        "\n",
        "    img = cv.imread(self.image)\n",
        "    contours = []\n",
        "    dilate = self.preprocess_image();\n",
        "    cntrs, _ = cv.findContours(dilate, cv.RETR_LIST, cv.CHAIN_APPROX_NONE)\n",
        "    for i, c in enumerate(cntrs):\n",
        "      # Calculate the area of each contour\n",
        "      area = cv.contourArea(c)\n",
        "      if area < 100:\n",
        "        continue\n",
        "      # Draw each contour only for visualisation purposes\n",
        "      cv.drawContours(img, contours, i, (0, 0, 255), 2)\n",
        " \n",
        "    # Find the orientation of each shape\n",
        "    cntr, angle = self.getOrientation(c, img)\n",
        "    #cv.imshow('Output Image', img)\n",
        "    #cv.waitKey(0)\n",
        "    #cv.destroyAllWindows()\n",
        "    cv.imwrite(\"/output_img.png\", img)\n",
        "    \n",
        "        \n",
        "    "
      ],
      "metadata": {
        "id": "L7flxwqtcnNd"
      },
      "execution_count": null,
      "outputs": []
    },
    {
      "cell_type": "code",
      "source": [
        "rot = CenterAndRotationWithPCA(\"/image.png\");\n",
        "rot.image_moments()"
      ],
      "metadata": {
        "id": "vxlyX3mVd1na"
      },
      "execution_count": null,
      "outputs": []
    }
  ]
}