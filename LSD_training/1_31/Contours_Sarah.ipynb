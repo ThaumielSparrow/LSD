{
  "nbformat": 4,
  "nbformat_minor": 0,
  "metadata": {
    "colab": {
      "name": "Contours_Sarah.ipynb",
      "provenance": [],
      "collapsed_sections": [],
      "toc_visible": true,
      "authorship_tag": "ABX9TyNgxOgnJLnesEQfta7wW8zJ",
      "include_colab_link": true
    },
    "kernelspec": {
      "name": "python3",
      "display_name": "Python 3"
    },
    "language_info": {
      "name": "python"
    }
  },
  "cells": [
    {
      "cell_type": "markdown",
      "metadata": {
        "id": "view-in-github",
        "colab_type": "text"
      },
      "source": [
        "<a href=\"https://colab.research.google.com/github/ThaumielSparrow/LSD/blob/main/Contours_Sarah.ipynb\" target=\"_parent\"><img src=\"https://colab.research.google.com/assets/colab-badge.svg\" alt=\"Open In Colab\"/></a>"
      ]
    },
    {
      "cell_type": "code",
      "execution_count": 2,
      "metadata": {
        "id": "FHROZK06cGMy"
      },
      "outputs": [],
      "source": [
        "import cv2 as cv\n",
        "import numpy as np\n",
        "import imutils\n",
        "from matplotlib import pyplot as plt"
      ]
    },
    {
      "cell_type": "code",
      "source": [
        "class DigitsByContour():\n",
        "    '''\n",
        "    Contains structure to make digit detection scalable for the future\n",
        "\n",
        "    Functions: digits_by_contour\n",
        "    '''\n",
        "    def __init__(self, img):\n",
        "        self.image = img\n",
        "\n",
        "    def preprocess_image(self) :\n",
        "      '''\n",
        "      Read the image, reduce noise, threshhold and dilate\n",
        "      pre: self.image is just a file name\n",
        "      post: self.image is preprocessed\n",
        "      '''\n",
        "      img_main = cv.imread(self.image)\n",
        "      img_blur = cv.GaussianBlur(img_main, (7, 7), 1)\n",
        "      img_blur_RGB = cv.cvtColor(img_blur, cv.COLOR_BGR2GRAY)\n",
        "\n",
        "      ret, thresh1 = cv.threshold(img_blur_RGB, 127, 256, cv.THRESH_BINARY_INV)\n",
        "      dilate = cv.dilate(thresh1, None, iterations=2)\n",
        "      self.image = dilate\n",
        "\n",
        "    def digits_by_countour(self, save=True, passOrig=False):\n",
        "        '''\n",
        "        Finds digits in an image by contours.\n",
        "\n",
        "        Arguments: image to be analyzed, whether to save images physically, whether to return original image with bounds around digits\n",
        "\n",
        "        Returns: NumPy array containing all digits\n",
        "        '''\n",
        "        contours = []\n",
        "        self.preprocess_image();\n",
        "        img_main = cv.imread(self.image)\n",
        "        orig = img_main.copy()\n",
        "        cnts = cv.findContours(self.image.copy(), cv.RETR_EXTERNAL, cv.cv2.CHAIN_APPROX_SIMPLE)\n",
        "        # Case for first element when OpenCV is v4+\n",
        "        cnts = cnts[0] # if imutils.is_cv2() else cnts[1]\n",
        "\n",
        "\n",
        "        for cnt in cnts:\n",
        "            # Check the area of contour, may need to refine this\n",
        "            if(cv.contourArea(cnt) < 100):\n",
        "                continue\n",
        "            # Detect filtered contours\n",
        "            x,y,w,h = cv.boundingRect(cnt)\n",
        "            # Get region of interest\n",
        "            roi = img_main[y:y+h, x:x+w]\n",
        "            # Mark these on the original image\n",
        "            cv.rectangle(orig,(x,y),(x+w,y+h),(0,255,0),2)\n",
        "            # Save contours\n",
        "            \n",
        "            if save:\n",
        "                cv.imwrite('roi' + str(i) + '.png', roi)\n",
        "\n",
        "            contours.append(roi)\n",
        "        contours_arr = np.asarray(contours)\n",
        "        if passOrig:\n",
        "            return contours_arr, orig\n",
        "        else:\n",
        "            return contours_arr\n",
        "    \n",
        "    def contours_and_location(self, save = True, passOrig = False):\n",
        "      contours = []\n",
        "      location = []\n",
        "      self.preprocess_image();\n",
        "      img_main = cv.imread(self.image)\n",
        "      cnts = cv.findContours(self.image.copy(), cv.RETR_EXTERNAL, cv.cv2.CHAIN_APPROX_SIMPLE)\n",
        "      # Case for first element when OpenCV is v4+\n",
        "      cnts = cnts[0] # if imutils.is_cv2() else cnts[1]\n",
        "\n",
        "      orig = img_main.copy()\n",
        "\n",
        "      for cnt in cnts:\n",
        "        # Check the area of contour, may need to refine this\n",
        "        if(cv.contourArea(cnt) < 100):\n",
        "          continue\n",
        "        # Detect filtered contours\n",
        "        x,y,w,h = cv.boundingRect(cnt)\n",
        "        # Get region of interest \n",
        "        roi = img_main[y:y+h, x:x+w]\n",
        "        # location\n",
        "        location.append((y+h/2, x+h/2)) \n",
        "        # Mark these on the original image\n",
        "        cv.rectangle(orig,(x,y),(x+w,y+h),(0,255,0),2)\n",
        "        # Save contours\n",
        "            \n",
        "        if save:\n",
        "            cv.imwrite('roi' + str(i) + '.png', roi)\n",
        "\n",
        "        contours.append(roi)\n",
        "      contours_arr = np.asarray(contours)\n",
        "      location_arr = np.asarray(location)\n",
        "      if passOrig:\n",
        "        return contours_arr,location_arr, orig\n",
        "      else:\n",
        "        return contours_arr,location_arr\n",
        "\n",
        "    "
      ],
      "metadata": {
        "id": "L7flxwqtcnNd"
      },
      "execution_count": 3,
      "outputs": []
    }
  ]
}